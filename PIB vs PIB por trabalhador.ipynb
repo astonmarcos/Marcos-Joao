{
 "cells": [
  {
   "cell_type": "code",
   "execution_count": 46,
   "id": "5ea05225",
   "metadata": {},
   "outputs": [],
   "source": [
    "import pandas as pd\n",
    "import matplotlib.pyplot as plt\n",
    "%matplotlib inline"
   ]
  },
  {
   "cell_type": "code",
   "execution_count": 47,
   "id": "ff7934d4",
   "metadata": {},
   "outputs": [],
   "source": [
    "PIB = pd.read_csv(r'ano-e-PIB.csv' )\n",
    "PIB_POR_TRABALHADOR = pd.read_csv(r'PIB-POR-TRABALHADOR.csv')"
   ]
  },
  {
   "cell_type": "code",
   "execution_count": 48,
   "id": "39c69356",
   "metadata": {},
   "outputs": [
    {
     "data": {
      "text/html": [
       "<div>\n",
       "<style scoped>\n",
       "    .dataframe tbody tr th:only-of-type {\n",
       "        vertical-align: middle;\n",
       "    }\n",
       "\n",
       "    .dataframe tbody tr th {\n",
       "        vertical-align: top;\n",
       "    }\n",
       "\n",
       "    .dataframe thead th {\n",
       "        text-align: right;\n",
       "    }\n",
       "</style>\n",
       "<table border=\"1\" class=\"dataframe\">\n",
       "  <thead>\n",
       "    <tr style=\"text-align: right;\">\n",
       "      <th></th>\n",
       "      <th>ano</th>\n",
       "      <th>PIB</th>\n",
       "    </tr>\n",
       "  </thead>\n",
       "  <tbody>\n",
       "    <tr>\n",
       "      <th>0</th>\n",
       "      <td>1990</td>\n",
       "      <td>828495552.9</td>\n",
       "    </tr>\n",
       "    <tr>\n",
       "      <th>1</th>\n",
       "      <td>1991</td>\n",
       "      <td>816378705.1</td>\n",
       "    </tr>\n",
       "    <tr>\n",
       "      <th>2</th>\n",
       "      <td>1992</td>\n",
       "      <td>803082420.4</td>\n",
       "    </tr>\n",
       "    <tr>\n",
       "      <th>3</th>\n",
       "      <td>1993</td>\n",
       "      <td>867390532.4</td>\n",
       "    </tr>\n",
       "    <tr>\n",
       "      <th>4</th>\n",
       "      <td>1994</td>\n",
       "      <td>971527559.1</td>\n",
       "    </tr>\n",
       "  </tbody>\n",
       "</table>\n",
       "</div>"
      ],
      "text/plain": [
       "    ano          PIB\n",
       "0  1990  828495552.9\n",
       "1  1991  816378705.1\n",
       "2  1992  803082420.4\n",
       "3  1993  867390532.4\n",
       "4  1994  971527559.1"
      ]
     },
     "execution_count": 48,
     "metadata": {},
     "output_type": "execute_result"
    }
   ],
   "source": [
    "PIB.head()"
   ]
  },
  {
   "cell_type": "code",
   "execution_count": 49,
   "id": "0667d04d",
   "metadata": {},
   "outputs": [
    {
     "data": {
      "text/html": [
       "<div>\n",
       "<style scoped>\n",
       "    .dataframe tbody tr th:only-of-type {\n",
       "        vertical-align: middle;\n",
       "    }\n",
       "\n",
       "    .dataframe tbody tr th {\n",
       "        vertical-align: top;\n",
       "    }\n",
       "\n",
       "    .dataframe thead th {\n",
       "        text-align: right;\n",
       "    }\n",
       "</style>\n",
       "<table border=\"1\" class=\"dataframe\">\n",
       "  <thead>\n",
       "    <tr style=\"text-align: right;\">\n",
       "      <th></th>\n",
       "      <th>PIB_POR_TRABALHADOR</th>\n",
       "    </tr>\n",
       "  </thead>\n",
       "  <tbody>\n",
       "    <tr>\n",
       "      <th>0</th>\n",
       "      <td>93404233.7</td>\n",
       "    </tr>\n",
       "    <tr>\n",
       "      <th>1</th>\n",
       "      <td>290526229.6</td>\n",
       "    </tr>\n",
       "    <tr>\n",
       "      <th>2</th>\n",
       "      <td>289921451.4</td>\n",
       "    </tr>\n",
       "    <tr>\n",
       "      <th>3</th>\n",
       "      <td>317725469.7</td>\n",
       "    </tr>\n",
       "    <tr>\n",
       "      <th>4</th>\n",
       "      <td>362510283.2</td>\n",
       "    </tr>\n",
       "  </tbody>\n",
       "</table>\n",
       "</div>"
      ],
      "text/plain": [
       "   PIB_POR_TRABALHADOR\n",
       "0           93404233.7\n",
       "1          290526229.6\n",
       "2          289921451.4\n",
       "3          317725469.7\n",
       "4          362510283.2"
      ]
     },
     "execution_count": 49,
     "metadata": {},
     "output_type": "execute_result"
    }
   ],
   "source": [
    "PIB_POR_TRABALHADOR.head()"
   ]
  },
  {
   "cell_type": "code",
   "execution_count": 50,
   "id": "83d049f9",
   "metadata": {},
   "outputs": [
    {
     "data": {
      "text/plain": [
       "ano      int64\n",
       "PIB    float64\n",
       "dtype: object"
      ]
     },
     "execution_count": 50,
     "metadata": {},
     "output_type": "execute_result"
    }
   ],
   "source": [
    "PIB.dtypes"
   ]
  },
  {
   "cell_type": "code",
   "execution_count": 51,
   "id": "00f0e388",
   "metadata": {},
   "outputs": [
    {
     "data": {
      "text/plain": [
       "PIB_POR_TRABALHADOR    float64\n",
       "dtype: object"
      ]
     },
     "execution_count": 51,
     "metadata": {},
     "output_type": "execute_result"
    }
   ],
   "source": [
    "PIB_POR_TRABALHADOR.dtypes"
   ]
  },
  {
   "cell_type": "code",
   "execution_count": 52,
   "id": "5ff21073",
   "metadata": {},
   "outputs": [],
   "source": [
    "PIB.ano = pd.to_datetime(PIB.ano, format='%Y')"
   ]
  },
  {
   "cell_type": "code",
   "execution_count": 53,
   "id": "28ffdc01",
   "metadata": {},
   "outputs": [
    {
     "data": {
      "text/plain": [
       "ano    datetime64[ns]\n",
       "PIB           float64\n",
       "dtype: object"
      ]
     },
     "execution_count": 53,
     "metadata": {},
     "output_type": "execute_result"
    }
   ],
   "source": [
    "PIB.dtypes"
   ]
  },
  {
   "cell_type": "code",
   "execution_count": 57,
   "id": "a9867c79",
   "metadata": {},
   "outputs": [
    {
     "data": {
      "text/plain": [
       "<matplotlib.legend.Legend at 0x7f1d2c685310>"
      ]
     },
     "execution_count": 57,
     "metadata": {},
     "output_type": "execute_result"
    },
    {
     "data": {
      "image/png": "[encoded data removed]",
      "text/plain": [
       "<Figure size 792x432 with 1 Axes>"
      ]
     },
     "metadata": {
      "needs_background": "light"
     },
     "output_type": "display_data"
    }
   ],
   "source": [
    "plt.rcParams['figure.figsize'] = (11,6)\n",
    "plt.title('PIB vs PIB por trabalhador',fontsize = 16)\n",
    "plt.plot(PIB.ano,PIB.PIB,lw =3, label = ' PIB', c = 'purple')\n",
    "plt.plot(PIB.ano,PIB_POR_TRABALHADOR.PIB_POR_TRABALHADOR,lw =3, label = ' PIB por trabalhador', c = 'black')\n",
    "plt.ylabel(\"Valor (EM TRILHÕES)\",fontsize = 15)\n",
    "plt.xlabel('Anos',fontsize = 15)\n",
    "plt.legend(loc = 'lower right')"
   ]
  },
  {
   "cell_type": "markdown",
   "id": "a66712e0",
   "metadata": {},
   "source": [
    "Comprovando que o PIB e PIB por trabalhador é uma função crescente do acúmlo de capital, com dados da década de 90."
   ]
  },
  {
   "cell_type": "code",
   "execution_count": null,
   "id": "7f1c4c9c",
   "metadata": {},
   "outputs": [],
   "source": []
  }
 ],
 "metadata": {
  "kernelspec": {
   "display_name": "Python 3",
   "language": "python",
   "name": "python3"
  },
  "language_info": {
   "codemirror_mode": {
    "name": "ipython",
    "version": 3
   },
   "file_extension": ".py",
   "mimetype": "text/x-python",
   "name": "python",
   "nbconvert_exporter": "python",
   "pygments_lexer": "ipython3",
   "version": "3.8.8"
  }
 },
 "nbformat": 4,
 "nbformat_minor": 5
}
