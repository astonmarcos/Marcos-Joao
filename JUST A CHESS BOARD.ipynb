{
  "nbformat": 4,
  "nbformat_minor": 0,
  "metadata": {
    "colab": {
      "name": "Untitled3.ipynb",
      "provenance": [],
      "collapsed_sections": [],
      "authorship_tag": "ABX9TyNGEZGB2CPLP1+08djNsX3/",
      "include_colab_link": true
    },
    "kernelspec": {
      "name": "python3",
      "display_name": "Python 3"
    },
    "language_info": {
      "name": "python"
    }
  },
  "cells": [
    {
      "cell_type": "markdown",
      "metadata": {
        "id": "view-in-github",
        "colab_type": "text"
      },
      "source": [
        "<a href=\"https://colab.research.google.com/github/astonmarcos/Marcos-Joao/blob/main/JUST%20A%20CHESS%20BOARD.ipynb\" target=\"_parent\"><img src=\"https://colab.research.google.com/assets/colab-badge.svg\" alt=\"Open In Colab\"/></a>"
      ]
    },
    {
      "cell_type": "markdown",
      "source": [
        "JUST A CHESS BOARD"
      ],
      "metadata": {
        "id": "0ktb6lkdKoxJ"
      }
    },
    {
      "cell_type": "code",
      "execution_count": 6,
      "metadata": {
        "id": "7Nzcwul6KoA8"
      },
      "outputs": [],
      "source": [
        "import cv2\n",
        "import numpy as np\n",
        "import matplotlib.pyplot as plt\n"
      ]
    },
    {
      "cell_type": "code",
      "source": [
        "blue = np.zeros((100,100), dtype=np.uint8) # 0 - 255\n",
        "white = np.ones((10,10), dtype=np.uint8)\n",
        "blue[0:10, 0:10] = white #corner\n",
        "blue[10:20,10:20] = white\n",
        "\n",
        "square = blue[0:20, 0:20]\n",
        "\n",
        "chess = np.tile(square, (4,4))\n",
        "plt.imshow(chess, cmap='gray')\n",
        "\n"
      ],
      "metadata": {
        "colab": {
          "base_uri": "https://localhost:8080/",
          "height": 285
        },
        "id": "7hYE2vNeK44y",
        "outputId": "ac0a71e7-832a-40e8-fbfb-107c4da5d331"
      },
      "execution_count": 8,
      "outputs": [
        {
          "output_type": "execute_result",
          "data": {
            "text/plain": [
              "<matplotlib.image.AxesImage at 0x7fb95a1bd3d0>"
            ]
          },
          "metadata": {},
          "execution_count": 8
        },
        {
          "output_type": "display_data",
          "data": {
            "image/png": "[encoded data removed]",
            "text/plain": [
              "<Figure size 432x288 with 1 Axes>"
            ]
          },
          "metadata": {
            "needs_background": "light"
          }
        }
      ]
    },
    {
      "cell_type": "code",
      "source": [
        ""
      ],
      "metadata": {
        "id": "sCaOpyOFMszn"
      },
      "execution_count": null,
      "outputs": []
    }
  ]
}