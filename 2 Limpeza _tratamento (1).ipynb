{
  "cells": [
    {
      "cell_type": "code",
      "execution_count": 1,
      "metadata": {
        "id": "G0qerYNs2lns"
      },
      "outputs": [],
      "source": [
        "import pandas as pd\n",
        "import seaborn as srn\n",
        "import statistics  as sts"
      ]
    },
    {
      "cell_type": "code",
      "execution_count": null,
      "metadata": {
        "id": "7K48BjHT2lnu"
      },
      "outputs": [],
      "source": [
        "\n",
        "dataset = pd.read_csv(\"Churn.csv\", sep=\";\")\n",
        "\n",
        "dataset.head()"
      ]
    },
    {
      "cell_type": "code",
      "execution_count": null,
      "metadata": {
        "id": "OYNi2Mw62lnv"
      },
      "outputs": [],
      "source": [
        "\n",
        "dataset.shape"
      ]
    },
    {
      "cell_type": "code",
      "execution_count": 4,
      "metadata": {
        "id": "YMCERpyd2lnw"
      },
      "outputs": [],
      "source": [
        "\n",
        "dataset.columns = [\"Id\",\"Score\",\"Estado\",\"Genero\",\"Idade\",\"Patrimonio\",\"Saldo\",\"Produtos\",\"TemCartCredito\",\n",
        "                    \"Ativo\",\"Salario\",\"Saiu\"]"
      ]
    },
    {
      "cell_type": "code",
      "execution_count": null,
      "metadata": {
        "id": "UzvTS7sU2lnx"
      },
      "outputs": [],
      "source": [
        "\n",
        "dataset.head()"
      ]
    },
    {
      "cell_type": "code",
      "execution_count": null,
      "metadata": {
        "id": "nh7jjj-d2lny"
      },
      "outputs": [],
      "source": [
        "\n",
        "agrupado = dataset.groupby(['Estado']).size()\n",
        "agrupado"
      ]
    },
    {
      "cell_type": "code",
      "execution_count": null,
      "metadata": {
        "id": "3QDPCVGC2lnz"
      },
      "outputs": [],
      "source": [
        "agrupado.plot.bar(color = 'gray')"
      ]
    },
    {
      "cell_type": "code",
      "execution_count": null,
      "metadata": {
        "id": "TVqPF_3p2ln0"
      },
      "outputs": [],
      "source": [
        "\n",
        "agrupado = dataset.groupby(['Genero']).size()\n",
        "agrupado"
      ]
    },
    {
      "cell_type": "code",
      "execution_count": null,
      "metadata": {
        "id": "w2nFCjuP2ln1"
      },
      "outputs": [],
      "source": [
        "agrupado.plot.bar(color = 'gray')"
      ]
    },
    {
      "cell_type": "code",
      "execution_count": null,
      "metadata": {
        "id": "LYNmOTWX2ln2"
      },
      "outputs": [],
      "source": [
        "\n",
        "dataset['Score'].describe()"
      ]
    },
    {
      "cell_type": "code",
      "execution_count": null,
      "metadata": {
        "id": "m0g0Aym02ln2"
      },
      "outputs": [],
      "source": [
        "srn.boxplot(dataset['Score']).set_title('Score')"
      ]
    },
    {
      "cell_type": "code",
      "execution_count": null,
      "metadata": {
        "id": "7_rB4H4f2ln3"
      },
      "outputs": [],
      "source": [
        "srn.distplot(dataset['Score']).set_title('Score')"
      ]
    },
    {
      "cell_type": "code",
      "execution_count": null,
      "metadata": {
        "id": "GYxg6jwq2ln3"
      },
      "outputs": [],
      "source": [
        "\n",
        "dataset['Idade'].describe()"
      ]
    },
    {
      "cell_type": "code",
      "execution_count": null,
      "metadata": {
        "id": "xbZshUEU2ln4"
      },
      "outputs": [],
      "source": [
        "srn.boxplot(dataset['Idade']).set_title('Idade')"
      ]
    },
    {
      "cell_type": "code",
      "execution_count": null,
      "metadata": {
        "id": "fMbooXN12ln4"
      },
      "outputs": [],
      "source": [
        "srn.distplot(dataset['Idade']).set_title('Idade')"
      ]
    },
    {
      "cell_type": "code",
      "execution_count": null,
      "metadata": {
        "id": "ex99dcCC2ln4"
      },
      "outputs": [],
      "source": [
        "\n",
        "dataset['Saldo'].describe()"
      ]
    },
    {
      "cell_type": "code",
      "execution_count": null,
      "metadata": {
        "id": "-S9xRP5U2ln5"
      },
      "outputs": [],
      "source": [
        "srn.boxplot(dataset['Saldo']).set_title('Saldo')"
      ]
    },
    {
      "cell_type": "code",
      "execution_count": null,
      "metadata": {
        "id": "fAT1KTDu2ln5"
      },
      "outputs": [],
      "source": [
        "srn.distplot(dataset['Saldo']).set_title('Saldo')"
      ]
    },
    {
      "cell_type": "code",
      "execution_count": null,
      "metadata": {
        "id": "C7UPUSu92ln5"
      },
      "outputs": [],
      "source": [
        "\n",
        "dataset['Salario'].describe()"
      ]
    },
    {
      "cell_type": "code",
      "execution_count": null,
      "metadata": {
        "id": "Uq5jPfJ12ln6"
      },
      "outputs": [],
      "source": [
        "srn.boxplot(dataset['Salario']).set_title('Salario')"
      ]
    },
    {
      "cell_type": "code",
      "execution_count": null,
      "metadata": {
        "id": "aUx6AjRg2ln6"
      },
      "outputs": [],
      "source": [
        "srn.distplot(dataset['Salario']).set_title('Salario')"
      ]
    },
    {
      "cell_type": "code",
      "execution_count": null,
      "metadata": {
        "id": "17JZYfPz2ln6"
      },
      "outputs": [],
      "source": [
        "\n",
        "dataset.isnull().sum()"
      ]
    },
    {
      "cell_type": "code",
      "execution_count": null,
      "metadata": {
        "id": "3rR3UyKn2ln7"
      },
      "outputs": [],
      "source": [
        "\n",
        "dataset['Salario'].describe()"
      ]
    },
    {
      "cell_type": "code",
      "execution_count": null,
      "metadata": {
        "id": "q5xUXNex2ln7"
      },
      "outputs": [],
      "source": [
        "mediana = sts.median(dataset['Salario'])\n",
        "mediana"
      ]
    },
    {
      "cell_type": "code",
      "execution_count": 25,
      "metadata": {
        "id": "4XPhtm3h2ln7"
      },
      "outputs": [],
      "source": [
        "\n",
        "dataset['Salario'].fillna(mediana, inplace=True)"
      ]
    },
    {
      "cell_type": "code",
      "execution_count": null,
      "metadata": {
        "id": "NWDWzdgL2ln7"
      },
      "outputs": [],
      "source": [
        "\n",
        "dataset['Salario'].isnull().sum()"
      ]
    },
    {
      "cell_type": "code",
      "execution_count": null,
      "metadata": {
        "id": "Kq7yklZF2ln8"
      },
      "outputs": [],
      "source": [
        "\n",
        "agrupado = dataset.groupby(['Genero']).size()\n",
        "agrupado"
      ]
    },
    {
      "cell_type": "code",
      "execution_count": null,
      "metadata": {
        "id": "pU8vrS522ln8"
      },
      "outputs": [],
      "source": [
        "\n",
        "dataset['Genero'].isnull().sum()"
      ]
    },
    {
      "cell_type": "code",
      "execution_count": 29,
      "metadata": {
        "id": "Tk2B0VlP2ln9"
      },
      "outputs": [],
      "source": [
        "\n",
        "dataset['Genero'].fillna('Masculino', inplace=True)"
      ]
    },
    {
      "cell_type": "code",
      "execution_count": null,
      "metadata": {
        "id": "WSpIJv6T2ln9"
      },
      "outputs": [],
      "source": [
        "\n",
        "dataset['Genero'].isnull().sum()"
      ]
    },
    {
      "cell_type": "code",
      "execution_count": null,
      "metadata": {
        "id": "atxa708d2ln9"
      },
      "outputs": [],
      "source": [
        "\n",
        "dataset.loc[dataset['Genero'] ==  'M', 'Genero'] = \"Masculino\"\n",
        "dataset.loc[dataset['Genero'].isin( ['Fem','F']), 'Genero'] = \"Feminino\"\n",
        "\n",
        "agrupado = dataset.groupby(['Genero']).size()\n",
        "agrupado"
      ]
    },
    {
      "cell_type": "code",
      "execution_count": null,
      "metadata": {
        "id": "wgucym672ln-"
      },
      "outputs": [],
      "source": [
        "\n",
        "dataset['Idade'].describe()"
      ]
    },
    {
      "cell_type": "code",
      "execution_count": null,
      "metadata": {
        "id": "Lmdch_TK2ln-"
      },
      "outputs": [],
      "source": [
        "\n",
        "dataset.loc[(dataset['Idade'] <  0 )  | ( dataset['Idade'] >  120) ]"
      ]
    },
    {
      "cell_type": "code",
      "execution_count": null,
      "metadata": {
        "id": "ycS1lU2L2ln_"
      },
      "outputs": [],
      "source": [
        "\n",
        "mediana = sts.median(dataset['Idade'])\n",
        "mediana"
      ]
    },
    {
      "cell_type": "code",
      "execution_count": 37,
      "metadata": {
        "id": "paDJqlZZ2ln_"
      },
      "outputs": [],
      "source": [
        "\n",
        "dataset.loc[(dataset['Idade'] <  0 )  | ( dataset['Idade'] >  120), 'Idade'] = mediana"
      ]
    },
    {
      "cell_type": "code",
      "execution_count": null,
      "metadata": {
        "id": "4l3ulqmC2ln_"
      },
      "outputs": [],
      "source": [
        "\n",
        "dataset.loc[(dataset['Idade'] <  0 )  | ( dataset['Idade'] >  120) ]"
      ]
    },
    {
      "cell_type": "code",
      "execution_count": null,
      "metadata": {
        "id": "YRCGsUed2loA"
      },
      "outputs": [],
      "source": [
        "\n",
        "dataset[dataset.duplicated(['Id'],keep=False)]"
      ]
    },
    {
      "cell_type": "code",
      "execution_count": null,
      "metadata": {
        "id": "x4FDP4Of2loA"
      },
      "outputs": [],
      "source": [
        "\n",
        "dataset.drop_duplicates(subset=\"Id\", keep='first',inplace=True)\n",
        "\n",
        "dataset[dataset.duplicated(['Id'],keep=False)]"
      ]
    },
    {
      "cell_type": "code",
      "execution_count": null,
      "metadata": {
        "id": "QbjkECSS2loS"
      },
      "outputs": [],
      "source": [
        "\n",
        "agrupado = dataset.groupby(['Estado']).size()\n",
        "agrupado"
      ]
    },
    {
      "cell_type": "code",
      "execution_count": 42,
      "metadata": {
        "id": "B79PXWUe2loS"
      },
      "outputs": [],
      "source": [
        "\n",
        "dataset.loc[dataset['Estado'].isin( ['RP','SP','TD']), 'Estado'] = \"RS\"\n",
        "agrupado = dataset.groupby(['Estado']).size()"
      ]
    },
    {
      "cell_type": "code",
      "execution_count": null,
      "metadata": {
        "id": "EFlOlxHu2loS"
      },
      "outputs": [],
      "source": [
        "\n",
        "agrupado"
      ]
    },
    {
      "cell_type": "code",
      "execution_count": null,
      "metadata": {
        "id": "0u8YwD3D2loT"
      },
      "outputs": [],
      "source": [
        "\n",
        "desv = sts.stdev(dataset['Salario'])\n",
        "desv"
      ]
    },
    {
      "cell_type": "code",
      "execution_count": null,
      "metadata": {
        "id": "uo_MOIIy2loT"
      },
      "outputs": [],
      "source": [
        "\n",
        "dataset.loc[dataset['Salario'] >=  2 * desv ]"
      ]
    },
    {
      "cell_type": "code",
      "execution_count": null,
      "metadata": {
        "id": "JmhwRs7E2loT"
      },
      "outputs": [],
      "source": [
        "\n",
        "mediana = sts.median(dataset['Salario'])\n",
        "mediana"
      ]
    },
    {
      "cell_type": "code",
      "execution_count": null,
      "metadata": {
        "id": "s-lDd4LX2loU"
      },
      "outputs": [],
      "source": [
        "\n",
        "dataset.loc[dataset['Salario'] >=  2 * desv, 'Salario'] = mediana\n",
        "\n",
        "dataset.loc[dataset['Salario'] >=  2 * desv ]"
      ]
    },
    {
      "cell_type": "code",
      "execution_count": null,
      "metadata": {
        "id": "JsZWLj_s2loU"
      },
      "outputs": [],
      "source": [
        "dataset.head()"
      ]
    },
    {
      "cell_type": "code",
      "execution_count": null,
      "metadata": {
        "id": "ScRvn4Vy2loU"
      },
      "outputs": [],
      "source": [
        "dataset.shape"
      ]
    },
    {
      "cell_type": "code",
      "execution_count": null,
      "metadata": {
        "id": "Qv-MoeqS2loU"
      },
      "outputs": [],
      "source": []
    }
  ],
  "metadata": {
    "kernelspec": {
      "display_name": "Python 3",
      "language": "python",
      "name": "python3"
    },
    "language_info": {
      "codemirror_mode": {
        "name": "ipython",
        "version": 3
      },
      "file_extension": ".py",
      "mimetype": "text/x-python",
      "name": "python",
      "nbconvert_exporter": "python",
      "pygments_lexer": "ipython3",
      "version": "3.7.6"
    },
    "colab": {
      "provenance": []
    }
  },
  "nbformat": 4,
  "nbformat_minor": 0
}