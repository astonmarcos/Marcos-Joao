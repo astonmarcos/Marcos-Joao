{
  "nbformat": 4,
  "nbformat_minor": 0,
  "metadata": {
    "colab": {
      "name": "trabalho de mercado de K round2",
      "provenance": [],
      "collapsed_sections": [],
      "include_colab_link": true
    },
    "kernelspec": {
      "name": "python3",
      "display_name": "Python 3"
    },
    "language_info": {
      "name": "python"
    }
  },
  "cells": [
    {
      "cell_type": "markdown",
      "metadata": {
        "id": "view-in-github",
        "colab_type": "text"
      },
      "source": [
        "<a href=\"https://colab.research.google.com/github/astonmarcos/Marcos-Joao/blob/main/trabalho_de_mercado_de_k_2.ipynb\" target=\"_parent\"><img src=\"https://colab.research.google.com/assets/colab-badge.svg\" alt=\"Open In Colab\"/></a>"
      ]
    },
    {
      "cell_type": "markdown",
      "metadata": {
        "id": "9wn7r3FNv_HS"
      },
      "source": [
        "Trabalho de mercado de capitais\n",
        "Petróleo Gás e Biocombustíveis: Petrobrás, Ultrapar, PetroRio"
      ]
    },
    {
      "cell_type": "code",
      "metadata": {
        "id": "JBl1epnrwK7d"
      },
      "source": [
        "import numpy as np\n",
        "import pandas as pd\n",
        "import matplotlib.pyplot as plt\n",
        "%matplotlib inline"
      ],
      "execution_count": null,
      "outputs": []
    },
    {
      "cell_type": "markdown",
      "metadata": {
        "id": "XJrPEaTEmQAA"
      },
      "source": [
        "ATIVO CIRCULANTE\n",
        "ATIVO N CIRCULANTE\n",
        "PASSIVO CIRCULANTE\n",
        "ATIVO N CIRCULANTE\n",
        "ESTOQUE\n",
        "DISPONÍVEL\n",
        "ELP\n",
        "PATRIMONIO LÍQUIDO\n",
        "LUCRO BRUTO\n",
        "VENDAS LIQUIDA\n",
        "ATIVO TOTAL\n",
        "CAPITAL DE GIRO\n",
        "LUCRO LIQUIDO\n",
        "PREÇO\n",
        "Exigível a Longo Prazo\n",
        "VALOR PATRIMONIAL AJ.\n",
        "DIVIDENDOS\n",
        "QTD DE AÇÕES\n"
      ]
    },
    {
      "cell_type": "code",
      "metadata": {
        "id": "tBTgYGt69cC5"
      },
      "source": [
        "#indices_de_liquidez_Petrobras\n",
        "liquidez_geralpb= 142.320+ 845.100/136.290+ 539.98 \n",
        "liquidez_correntepb= 142.320/136.290\n",
        "liquidez_secapb= 142.320 - 29.500/136.290\n",
        "liquidez_imediatapb= 52.140/136.290"
      ],
      "execution_count": null,
      "outputs": []
    },
    {
      "cell_type": "code",
      "metadata": {
        "id": "B8yHQqf0X0NQ"
      },
      "source": [
        "#indices_de_liquidez_ultrapar\n",
        "liquidez_geralu= 17.489+ 18.761/ 9.240+ 17.099\n",
        "liquidez_correnteu= 17.489/9.240\n",
        "liquidez_secau= 17.489-3.846/9.240\n",
        "liquidez_imediatau= 6.217/9.240"
      ],
      "execution_count": null,
      "outputs": []
    },
    {
      "cell_type": "code",
      "metadata": {
        "id": "R6zHiuqs9o1H"
      },
      "source": [
        "#indices_de_liquidez_petrorio\n",
        "liquidez_geralpr= 1.841 + 4.951/2.149+ 1.492\n",
        "liquidez_correntepr= 1.841/2.149\n",
        "liquidez_secapr= 1.841 -194/2.149\n",
        "liquidez_imediatapr= 4.517/2.149"
      ],
      "execution_count": null,
      "outputs": []
    },
    {
      "cell_type": "code",
      "metadata": {
        "id": "hH9gA4alPxW2"
      },
      "source": [
        "#indices_de_liquidez_das_empresas\n",
        "#Petrobras:\n",
        "print(round(liquidez_geralpb, 2))\n",
        "print(round(liquidez_correntepb, 2))\n",
        "print(round(liquidez_secapb, 2))\n",
        "print(round(liquidez_imediatapb, 2))\n",
        "\n",
        "#Ultrapar/grupo Ultra\n",
        "print(round(liquidez_geralu, 2))\n",
        "print(round(liquidez_correnteu, 2))\n",
        "print(round(liquidez_secau, 2))\n",
        "print(round(liquidez_imediatau, 2))\n",
        "\n",
        "#PetroRio\n",
        "print(round(liquidez_geralpr, 2))\n",
        "print(round(liquidez_correntepr, 2))\n",
        "print(round(liquidez_secapr, 2))\n",
        "print(round(liquidez_imediatapr, 2))"
      ],
      "execution_count": null,
      "outputs": []
    },
    {
      "cell_type": "code",
      "metadata": {
        "id": "ku38Endo_mPd"
      },
      "source": [
        "plt.figure(figsize=(5,3))\n",
        "plt.title('Gráfico de Liquidez Geral (em R$ Milhões)', fontsize = 12)\n",
        "grupos = ['L. Geral', 'L. Corrente', 'L. Seca', 'L. Imediata']\n",
        "labels = ['Petrobras', 'Ultrapar', 'Petrorio']\n",
        "valores1 = [liquidez_geralpb] #, liquidez_correntepb, liquidez_secapb, liquidez_imediatapb]\n",
        "valores2 = [liquidez_geralu] #, liquidez_correnteu, liquidez_secau, liquidez_imediatau]\n",
        "valores3 = [liquidez_geralpr] #, liquidez_correntepr, liquidez_secapr, liquidez_imediatapr]\n",
        "x1 = 'Petrobras'\n",
        "x2 = 'Ultrapar'\n",
        "x3 = 'Petrorio'\n",
        "plt.bar(x1, valores1, width=0.5, label = round(liquidez_geralpb, 2), color = 'b')\n",
        "plt.bar(x2, valores2, width=0.5, label = round(liquidez_geralu,2 ), color = 'y')\n",
        "plt.bar(x3, valores3, width=0.5, label = round(liquidez_geralpr, 2), color = 'r')\n",
        "#plt.xticks([x + 0.20 for x in range(len(x1))], labels)\n",
        "plt.legend(loc = 'upper right')\n",
        "plt.show()"
      ],
      "execution_count": null,
      "outputs": []
    },
    {
      "cell_type": "code",
      "metadata": {
        "id": "PtlMHwDxaEQJ"
      },
      "source": [
        "plt.figure(figsize=(5,3))\n",
        "plt.title('Gráfico de Liquidez corrente (em R$ Milhões)', fontsize = 12)\n",
        "grupos = ['L. Geral', 'L. Corrente', 'L. Seca', 'L. Imediata']\n",
        "labels = ['Petrobras', 'Ultrapar', 'Petrorio']\n",
        "valores1 = [liquidez_correntepb] #, liquidez_correntepb, liquidez_secapb, liquidez_imediatapb]\n",
        "valores2 = [liquidez_correnteu] #, liquidez_correnteu, liquidez_secau, liquidez_imediatau]\n",
        "valores3 = [liquidez_correntepr] #, liquidez_correntepr, liquidez_secapr, liquidez_imediatapr]\n",
        "x1 = 'Petrobras'\n",
        "x2 = 'Ultrapar'\n",
        "x3 = 'Petrorio'\n",
        "plt.bar(x1, valores1, width=0.5, label = round(liquidez_correntepb, 2), color = 'b')\n",
        "plt.bar(x2, valores2, width=0.5, label = round(liquidez_correnteu,2 ), color = 'y')\n",
        "plt.bar(x3, valores3, width=0.5, label = round(liquidez_correntepr, 2), color = 'r')\n",
        "#plt.xticks([x + 0.20 for x in range(len(x1))], labels)\n",
        "plt.legend(loc = 'upper right')\n",
        "plt.show()"
      ],
      "execution_count": null,
      "outputs": []
    },
    {
      "cell_type": "code",
      "metadata": {
        "id": "eaFkPxaUawJW"
      },
      "source": [
        "plt.figure(figsize=(5,3))\n",
        "plt.title('Gráfico de Liquidez Seca (em R$ Milhões)', fontsize = 12)\n",
        "grupos = ['L. Geral', 'L. Corrente', 'L. Seca', 'L. Imediata']\n",
        "labels = ['Petrobras', 'Ultrapar', 'Petrorio']\n",
        "valores1 = [liquidez_secapb] #, liquidez_correntepb, liquidez_secapb, liquidez_imediatapb]\n",
        "valores2 = [liquidez_secau] #, liquidez_correnteu, liquidez_secau, liquidez_imediatau]\n",
        "valores3 = [liquidez_secapr] #, liquidez_correntepr, liquidez_secapr, liquidez_imediatapr]\n",
        "x1 = 'Petrobras'\n",
        "x2 = 'Ultrapar'\n",
        "x3 = 'Petrorio'\n",
        "plt.bar(x1, valores1, width=0.5, label = round(liquidez_secapb, 2), color = 'b')\n",
        "plt.bar(x2, valores2, width=0.5, label = round(liquidez_secau,2 ), color = 'y')\n",
        "plt.bar(x3, valores3, width=0.5, label = round(liquidez_secapr, 2), color = 'r')\n",
        "#plt.xticks([x + 0.20 for x in range(len(x1))], labels)\n",
        "plt.legend(loc = 'upper right')\n",
        "plt.show()"
      ],
      "execution_count": null,
      "outputs": []
    },
    {
      "cell_type": "code",
      "metadata": {
        "id": "SMUjx2b4dA4F"
      },
      "source": [
        "plt.figure(figsize=(5,3))\n",
        "plt.title('Gráfico de Liquidez Imediata (em R$ Milhões)', fontsize = 12)\n",
        "grupos = ['L. Geral', 'L. Corrente', 'L. Seca', 'L. Imediata']\n",
        "labels = ['Petrobras', 'Ultrapar', 'Petrorio']\n",
        "valores1 = [liquidez_imediatapb] #, liquidez_correntepb, liquidez_secapb, liquidez_imediatapb]\n",
        "valores2 = [liquidez_imediatau] #, liquidez_correnteu, liquidez_secau, liquidez_imediatau]\n",
        "valores3 = [liquidez_imediatapr] #, liquidez_correntepr, liquidez_secapr, liquidez_imediatapr]\n",
        "x1 = 'Petrobras'\n",
        "x2 = 'Ultrapar'\n",
        "x3 = 'Petrorio'\n",
        "plt.bar(x1, valores1, width=0.5, label = round(liquidez_imediatapb, 2), color = 'b')\n",
        "plt.bar(x2, valores2, width=0.5, label = round(liquidez_imediatau,2 ), color = 'y')\n",
        "plt.bar(x3, valores3, width=0.5, label = round(liquidez_imediatapr, 2), color = 'r')\n",
        "#plt.xticks([x + 0.20 for x in range(len(x1))], labels)\n",
        "plt.legend(loc = 'upper right')\n",
        "plt.show()"
      ],
      "execution_count": null,
      "outputs": []
    },
    {
      "cell_type": "markdown",
      "metadata": {
        "id": "Z29NuEAG-DuS"
      },
      "source": [
        "indices economicos: margem bruta, giro, ROI, ROE,\n",
        "\n",
        "---\n",
        "\n"
      ]
    },
    {
      "cell_type": "code",
      "metadata": {
        "id": "nyCF9fhndzUL"
      },
      "source": [
        "#indices_economicos_petrobras\n",
        "margembrutapb= 0.511\n",
        "giropb= 0.36\n",
        "ROIpb= 0.36*0.511\n",
        "ROEpb= 0.288"
      ],
      "execution_count": null,
      "outputs": []
    },
    {
      "cell_type": "code",
      "metadata": {
        "id": "YaGrk3A-enQs"
      },
      "source": [
        "#indices_economicos_ultrapar\n",
        "margembrutau= 0.066\n",
        "girou= 2.68\n",
        "ROIu= 2.68*0.066\n",
        "ROEu= 0.082"
      ],
      "execution_count": null,
      "outputs": []
    },
    {
      "cell_type": "code",
      "metadata": {
        "id": "gw6fnM9Wetvj"
      },
      "source": [
        "#indices_economicos_petrorio\n",
        "margembrutapr= 0.488\n",
        "giropr= 0.29\n",
        "ROIpr= 0.29*0.488\n",
        "ROEpr= 0.179"
      ],
      "execution_count": null,
      "outputs": []
    },
    {
      "cell_type": "code",
      "metadata": {
        "id": "7VXSw6Ocz7HY"
      },
      "source": [
        "#indices_economicos_das_empresas\n",
        "#Petrobras\n",
        "print(margembrutapb)\n",
        "print(giropb)\n",
        "print(ROIpb)\n",
        "print(ROEpb)\n",
        "#Ultrapar\n",
        "print(margembrutau)\n",
        "print(girou)\n",
        "print(ROIu)\n",
        "print(ROEu)\n",
        "#PetroRIo\n",
        "print(margembrutapr)\n",
        "print(giropr)\n",
        "print(ROIpr)\n",
        "print(ROEpr)\n",
        "\n"
      ],
      "execution_count": null,
      "outputs": []
    },
    {
      "cell_type": "code",
      "metadata": {
        "id": "f5NvO7bl2oA4"
      },
      "source": [
        "#margembruta\n",
        "plt.figure(figsize=(5,3))\n",
        "plt.title('margem bruta', fontsize = 12)\n",
        "grupos = ['margem bruta', 'giro', 'ROI', 'ROE']\n",
        "labels = ['Petrobras', 'Ultrapar', 'Petrorio']\n",
        "valores1 = [margembrutapb] #, margembrutapb, giropb, ROIpb,ROEpb]\n",
        "valores2 = [margembrutau] #, margembrutau, girou, ROIu,ROEu]\n",
        "valores3 = [margembrutapr] #, margembrutapr, giropr, ROIpr,ROEpr]\n",
        "x1 = 'Petrobras'\n",
        "x2 = 'Ultrapar'\n",
        "x3 = 'Petrorio'\n",
        "plt.bar(x1, valores1, width=0.5, label = round(margembrutapb, 2), color = 'b')\n",
        "plt.bar(x2, valores2, width=0.5, label = round(margembrutau,2 ), color = 'y')\n",
        "plt.bar(x3, valores3, width=0.5, label = round(margembrutapr, 2), color = 'r')\n",
        "#plt.xticks([x + 0.20 for x in range(len(x1))], labels)\n",
        "plt.legend(loc = 'upper right')\n",
        "plt.show()"
      ],
      "execution_count": null,
      "outputs": []
    },
    {
      "cell_type": "code",
      "metadata": {
        "id": "vZECbOAj5foa"
      },
      "source": [
        "#giro\n",
        "plt.figure(figsize=(5,3))\n",
        "plt.title('Giro', fontsize = 12)\n",
        "grupos = ['margem bruta', 'giro', 'ROI', 'ROE']\n",
        "labels = ['Petrobras', 'Ultrapar', 'Petrorio']\n",
        "valores1 = [giropb] #, margembrutapb, giropb, ROIpb,ROEpb]\n",
        "valores2 = [girou] #, margembrutau, girou, ROIu,ROEu]\n",
        "valores3 = [giropr] #, margembrutapr, giropr, ROIpr,ROEpr]\n",
        "x1 = 'Petrobras'\n",
        "x2 = 'Ultrapar'\n",
        "x3 = 'Petrorio'\n",
        "plt.bar(x1, valores1, width=0.5, label = round(giropb, 2), color = 'b')\n",
        "plt.bar(x2, valores2, width=0.5, label = round(girou,2 ), color = 'y')\n",
        "plt.bar(x3, valores3, width=0.5, label = round(giropr, 2), color = 'r')\n",
        "#plt.xticks([x + 0.20 for x in range(len(x1))], labels)\n",
        "plt.legend(loc = 'upper right')\n",
        "plt.show()"
      ],
      "execution_count": null,
      "outputs": []
    },
    {
      "cell_type": "code",
      "metadata": {
        "id": "Dm37zSn96Cjo"
      },
      "source": [
        "#ROI\n",
        "plt.figure(figsize=(5,3))\n",
        "plt.title('ROI', fontsize = 12)\n",
        "grupos = ['margem bruta', 'giro', 'ROI', 'ROE']\n",
        "labels = ['Petrobras', 'Ultrapar', 'Petrorio']\n",
        "valores1 = [ROIpb] #, margembrutapb, giropb, ROIpb,ROEpb]\n",
        "valores2 = [ROIu] #, margembrutau, girou, ROIu,ROEu]\n",
        "valores3 = [ROIpr] #, margembrutapr, giropr, ROIpr,ROEpr]\n",
        "x1 = 'Petrobras'\n",
        "x2 = 'Ultrapar'\n",
        "x3 = 'Petrorio'\n",
        "plt.bar(x1, valores1, width=0.5, label = (ROIpb, 2), color = 'b')\n",
        "plt.bar(x2, valores2, width=0.5, label = (ROIu,2 ), color = 'y')\n",
        "plt.bar(x3, valores3, width=0.5, label = (ROIpr, 2), color = 'r')\n",
        "#plt.xticks([x + 0.20 for x in range(len(x1))], labels)\n",
        "plt.legend(loc = 'upper right')\n",
        "plt.show()"
      ],
      "execution_count": null,
      "outputs": []
    },
    {
      "cell_type": "code",
      "metadata": {
        "id": "bGgwuT7D6unr"
      },
      "source": [
        "#ROE\n",
        "plt.figure(figsize=(5,3))\n",
        "plt.title('ROE', fontsize = 12)\n",
        "grupos = ['margem bruta', 'giro', 'ROI', 'ROE']\n",
        "labels = ['Petrobras', 'Ultrapar', 'Petrorio']\n",
        "valores1 = [ROEpb] #, margembrutapb, giropb, ROIpb,ROEpb]\n",
        "valores2 = [ROEu] #, margembrutau, girou, ROIu,ROEu]\n",
        "valores3 = [ROEpr] #, margembrutapr, giropr, ROIpr,ROEpr]\n",
        "x1 = 'Petrobras'\n",
        "x2 = 'Ultrapar'\n",
        "x3 = 'Petrorio'\n",
        "plt.bar(x1, valores1, width=0.5, label = round(ROEpb, 2), color = 'b')\n",
        "plt.bar(x2, valores2, width=0.5, label = round(ROEu,2 ), color = 'y')\n",
        "plt.bar(x3, valores3, width=0.5, label = round(ROEpr, 2), color = 'r')\n",
        "#plt.xticks([x + 0.20 for x in range(len(x1))], labels)\n",
        "plt.legend(loc = 'upper right')\n",
        "plt.show()"
      ],
      "execution_count": null,
      "outputs": []
    },
    {
      "cell_type": "markdown",
      "metadata": {
        "id": "5EuwySi1epB6"
      },
      "source": [
        "indices da bolsa: valor dos lucros, Valor por ações,lucro por ações, payout"
      ]
    },
    {
      "cell_type": "code",
      "metadata": {
        "id": "hzA-38UQ7pmo"
      },
      "source": [
        "#indices_da_bolsa_petrobras\n",
        "valor_dos_lucrospb= 3.84\n",
        "valor_por_acoespb= 356052000000/13044500000\n",
        "lucro_por_acoespb=102366000000/13044500000\n",
        "payoutpb= 31600000000/102366000000"
      ],
      "execution_count": null,
      "outputs": []
    },
    {
      "cell_type": "code",
      "metadata": {
        "id": "nR7NHYo3CgDF"
      },
      "source": [
        "#indices_da_bolsa_ultrapar\n",
        "valor_dos_lucrosu= 21.22\n",
        "valor_por_acoesu= 9664740000/1115110000\n",
        "lucro_por_acoesu= 792541000/1115110000\n",
        "payoutu= 218073611/792541000"
      ],
      "execution_count": null,
      "outputs": []
    },
    {
      "cell_type": "code",
      "metadata": {
        "id": "9ZqJQn9pDl6F"
      },
      "source": [
        "#indices_da_bolsa_petrorio\n",
        "valor_dos_lucrospr= 25.14\n",
        "valor_por_acoespr= 5421760000/878331000\n",
        "lucro_por_acoespr= 969139000/878331000\n",
        "payoutpr= 0"
      ],
      "execution_count": null,
      "outputs": []
    },
    {
      "cell_type": "code",
      "metadata": {
        "id": "BNGmVEwUEL5u",
        "colab": {
          "base_uri": "https://localhost:8080/"
        },
        "outputId": "f4046556-92ae-43be-83ed-585ab35dbb24"
      },
      "source": [
        "#indices_da_bolsa_das_empresas\n",
        "#petrobras\n",
        "print(valor_dos_lucrospb)\n",
        "print(valor_por_acoespb)\n",
        "print(lucro_por_acoespb)\n",
        "print(payoutpb)\n",
        "#ultrapar\n",
        "print(valor_dos_lucrosu)\n",
        "print(valor_por_acoesu)\n",
        "print(lucro_por_acoesu)\n",
        "print(payoutu)\n",
        "#petrorio\n",
        "print(valor_dos_lucrospr)\n",
        "print(valor_por_acoespr)\n",
        "print(lucro_por_acoespr)\n",
        "print(payoutpr) "
      ],
      "execution_count": null,
      "outputs": [
        {
          "output_type": "stream",
          "name": "stdout",
          "text": [
            "3.84\n",
            "27.2951818774196\n",
            "7.847445283452796\n",
            "0.3086962468006955\n",
            "21.22\n",
            "8.667073203540458\n",
            "0.7107289863780255\n",
            "0.275157513617592\n",
            "25.14\n",
            "6.172798182006556\n",
            "1.1033869919199026\n",
            "0\n"
          ]
        }
      ]
    },
    {
      "cell_type": "code",
      "metadata": {
        "id": "_-lq7Sx8PtJV"
      },
      "source": [
        "plt.figure(figsize=(5,3))\n",
        "plt.title('grafico valor dos lucros ', fontsize = 12)\n",
        "grupos = ['valor dos lucros', 'valor por acoes', 'lucro por acoes', 'payout']\n",
        "labels = ['Petrobras', 'Ultrapar', 'Petrorio']\n",
        "valores1 = [valor_dos_lucrospb] #,\n",
        "valores2 = [valor_dos_lucrosu] #, \n",
        "valores3 = [valor_dos_lucrospr] #,\n",
        "x1 = 'Petrobras'\n",
        "x2 = 'Ultrapar'\n",
        "x3 = 'Petrorio'\n",
        "plt.bar(x1, valores1, width=0.5, label = round(valor_dos_lucrospb, 2), color = 'b')\n",
        "plt.bar(x2, valores2, width=0.5, label = round(valor_dos_lucrosu,2 ), color = 'y')\n",
        "plt.bar(x3, valores3, width=0.5, label = round(valor_dos_lucrospr, 2), color = 'r')\n",
        "#plt.xticks([x + 0.20 for x in range(len(x1))], labels)\n",
        "plt.legend(loc = 'upper right')\n",
        "plt.show()"
      ],
      "execution_count": null,
      "outputs": []
    },
    {
      "cell_type": "code",
      "metadata": {
        "id": "jl-KtGKjQnaq"
      },
      "source": [
        "plt.figure(figsize=(5,3))\n",
        "plt.title('grafico valor por acoes ', fontsize = 12)\n",
        "grupos = ['valor dos lucros', 'valor por acoes', 'lucro por acoes', 'payout']\n",
        "labels = ['Petrobras', 'Ultrapar', 'Petrorio']\n",
        "valores1 = [valor_por_acoespb] #,\n",
        "valores2 = [valor_por_acoesu] #, \n",
        "valores3 = [valor_por_acoespr] #,\n",
        "x1 = 'Petrobras'\n",
        "x2 = 'Ultrapar'\n",
        "x3 = 'Petrorio'\n",
        "plt.bar(x1, valores1, width=0.5, label = round(valor_por_acoespb, 2), color = 'b')\n",
        "plt.bar(x2, valores2, width=0.5, label = round(valor_por_acoesu,2 ), color = 'y')\n",
        "plt.bar(x3, valores3, width=0.5, label = round(valor_por_acoespr, 2), color = 'r')\n",
        "#plt.xticks([x + 0.20 for x in range(len(x1))], labels)\n",
        "plt.legend(loc = 'upper right')\n",
        "plt.show()"
      ],
      "execution_count": null,
      "outputs": []
    },
    {
      "cell_type": "code",
      "metadata": {
        "colab": {
          "base_uri": "https://localhost:8080/",
          "height": 227
        },
        "id": "sizxNny5Q7oL",
        "outputId": "f2ff274c-c49f-4a3c-95da-38953deab0f1"
      },
      "source": [
        "plt.figure(figsize=(5,3))\n",
        "plt.title('lucro por ações ', fontsize = 12)\n",
        "grupos = ['valor dos lucros', 'valor por acoes', 'lucro por acoes', 'payout']\n",
        "labels = ['Petrobras', 'Ultrapar', 'Petrorio']\n",
        "valores1 = [lucro_por_acoespb] #,\n",
        "valores2 = [lucro_por_acoesu] #, \n",
        "valores3 = [lucro_por_acoespr] #,\n",
        "x1 = 'Petrobras'\n",
        "x2 = 'Ultrapar'\n",
        "x3 = 'Petrorio'\n",
        "plt.bar(x1, valores1, width=0.5, label = round(lucro_por_acoespb, 2), color = 'b')\n",
        "plt.bar(x2, valores2, width=0.5, label = round(lucro_por_acoesu,2 ), color = 'y')\n",
        "plt.bar(x3, valores3, width=0.5, label = round(lucro_por_acoespr, 2), color = 'r')\n",
        "#plt.xticks([x + 0.20 for x in range(len(x1))], labels)\n",
        "plt.legend(loc = 'upper right')\n",
        "plt.show()"
      ],
      "execution_count": null,
      "outputs": [
        {
          "output_type": "display_data",
          "data": {
            "image/png": "[encoded data removed]",
            "text/plain": [
              "<Figure size 360x216 with 1 Axes>"
            ]
          },
          "metadata": {
            "needs_background": "light"
          }
        }
      ]
    },
    {
      "cell_type": "code",
      "metadata": {
        "colab": {
          "base_uri": "https://localhost:8080/",
          "height": 227
        },
        "id": "xkWNWd6yRdLc",
        "outputId": "6f51c8cb-0a26-44d3-df48-44fee545d984"
      },
      "source": [
        "plt.figure(figsize=(5,3))\n",
        "plt.title('Payout ', fontsize = 12)\n",
        "grupos = ['valor dos lucros', 'valor por acoes', 'lucro por acoes', 'payout']\n",
        "labels = ['Petrobras', 'Ultrapar', 'Petrorio']\n",
        "valores1 = [payoutpb] #,\n",
        "valores2 = [payoutu] #, \n",
        "valores3 = [payoutpr] #,\n",
        "x1 = 'Petrobras'\n",
        "x2 = 'Ultrapar'\n",
        "x3 = 'Petrorio'\n",
        "plt.bar(x1, valores1, width=0.5, label = round(payoutpb, 2), color = 'b')\n",
        "plt.bar(x2, valores2, width=0.5, label = round(payoutu,2 ), color = 'y')\n",
        "plt.bar(x3, valores3, width=0.5, label = round(payoutpr, 2), color = 'r')\n",
        "#plt.xticks([x + 0.20 for x in range(len(x1))], labels)\n",
        "plt.legend(loc = 'upper right')\n",
        "plt.show()"
      ],
      "execution_count": null,
      "outputs": [
        {
          "output_type": "display_data",
          "data": {
            "image/png": "[encoded data removed]",
            "text/plain": [
              "<Figure size 360x216 with 1 Axes>"
            ]
          },
          "metadata": {
            "needs_background": "light"
          }
        }
      ]
    }
  ]
}