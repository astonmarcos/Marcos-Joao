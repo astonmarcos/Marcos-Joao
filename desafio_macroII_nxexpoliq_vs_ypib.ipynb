{
  "nbformat": 4,
  "nbformat_minor": 0,
  "metadata": {
    "colab": {
      "name": "desafio macroII nx vs y",
      "provenance": [],
      "collapsed_sections": [],
      "include_colab_link": true
    },
    "kernelspec": {
      "name": "python3",
      "display_name": "Python 3"
    },
    "language_info": {
      "name": "python"
    }
  },
  "cells": [
    {
      "cell_type": "markdown",
      "metadata": {
        "id": "view-in-github",
        "colab_type": "text"
      },
      "source": [
        "<a href=\"https://colab.research.google.com/github/astonmarcos/Marcos-Joao/blob/main/desafio_macroII_nxexpoliq_vs_ypib.ipynb\" target=\"_parent\"><img src=\"https://colab.research.google.com/assets/colab-badge.svg\" alt=\"Open In Colab\"/></a>"
      ]
    },
    {
      "cell_type": "markdown",
      "metadata": {
        "id": "0XeUYt-Rp6LU"
      },
      "source": [
        "Exportações líquidas x nível de atividade(PIB)\n"
      ]
    },
    {
      "cell_type": "code",
      "metadata": {
        "id": "lVoPtGH6AJAr"
      },
      "source": [
        "import pandas as pd\n",
        "import seaborn as sns; sns.set()\n",
        "import matplotlib.pyplot as plt\n",
        "%matplotlib inline"
      ],
      "execution_count": 155,
      "outputs": []
    },
    {
      "cell_type": "code",
      "metadata": {
        "id": "TL5Fh2CrtPlt"
      },
      "source": [
        "def sgs(codigo):\n",
        "  url = f'http://api.bcb.gov.br/dados/serie/bcdata.sgs.{codigo}/dados?formato=json'\n",
        "  dt = pd.read_json(url, orient= 'records')\n",
        "  dt.index = pd.to_datetime(dt['data'])\n",
        "  dt = pd.DataFrame(dt['valor'])\n",
        "  return dt"
      ],
      "execution_count": 156,
      "outputs": []
    },
    {
      "cell_type": "code",
      "metadata": {
        "id": "IUom_U4OlMWx"
      },
      "source": [
        "pib = sgs(1207)"
      ],
      "execution_count": 157,
      "outputs": []
    },
    {
      "cell_type": "code",
      "metadata": {
        "id": "ui8FcqiMnfFL"
      },
      "source": [
        "exportacoes= sgs(22711)"
      ],
      "execution_count": 158,
      "outputs": []
    },
    {
      "cell_type": "code",
      "metadata": {
        "id": "LP0whwJorT5j"
      },
      "source": [
        "importacoes= sgs(22712)"
      ],
      "execution_count": 159,
      "outputs": []
    },
    {
      "cell_type": "code",
      "metadata": {
        "id": "sIJ6XLatro5P"
      },
      "source": [
        "cambio = sgs(1)"
      ],
      "execution_count": 160,
      "outputs": []
    },
    {
      "cell_type": "code",
      "metadata": {
        "id": "aOEraOhpoOiI"
      },
      "source": [
        "importacoes = importacoes.groupby(importacoes.index.year).apply(lambda x: x.sum())"
      ],
      "execution_count": 161,
      "outputs": []
    },
    {
      "cell_type": "code",
      "metadata": {
        "id": "Q9J-0eFOoP_R"
      },
      "source": [
        "exportacoes = exportacoes.groupby(exportacoes.index.year).apply(lambda x: x.sum())"
      ],
      "execution_count": 162,
      "outputs": []
    },
    {
      "cell_type": "code",
      "metadata": {
        "colab": {
          "base_uri": "https://localhost:8080/",
          "height": 238
        },
        "id": "5riQmmVBonKN",
        "outputId": "6eba6f2b-087d-400b-94b7-9ccc422424fe"
      },
      "source": [
        "exportacoes = exportacoes.query(\"index < 2020\")\n",
        "exportacoes.tail()"
      ],
      "execution_count": 163,
      "outputs": [
        {
          "output_type": "execute_result",
          "data": {
            "text/html": [
              "<div>\n",
              "<style scoped>\n",
              "    .dataframe tbody tr th:only-of-type {\n",
              "        vertical-align: middle;\n",
              "    }\n",
              "\n",
              "    .dataframe tbody tr th {\n",
              "        vertical-align: top;\n",
              "    }\n",
              "\n",
              "    .dataframe thead th {\n",
              "        text-align: right;\n",
              "    }\n",
              "</style>\n",
              "<table border=\"1\" class=\"dataframe\">\n",
              "  <thead>\n",
              "    <tr style=\"text-align: right;\">\n",
              "      <th></th>\n",
              "      <th>valor</th>\n",
              "    </tr>\n",
              "    <tr>\n",
              "      <th>data</th>\n",
              "      <th></th>\n",
              "    </tr>\n",
              "  </thead>\n",
              "  <tbody>\n",
              "    <tr>\n",
              "      <th>2015</th>\n",
              "      <td>187487.6</td>\n",
              "    </tr>\n",
              "    <tr>\n",
              "      <th>2016</th>\n",
              "      <td>181262.8</td>\n",
              "    </tr>\n",
              "    <tr>\n",
              "      <th>2017</th>\n",
              "      <td>215097.5</td>\n",
              "    </tr>\n",
              "    <tr>\n",
              "      <th>2018</th>\n",
              "      <td>236620.1</td>\n",
              "    </tr>\n",
              "    <tr>\n",
              "      <th>2019</th>\n",
              "      <td>222102.4</td>\n",
              "    </tr>\n",
              "  </tbody>\n",
              "</table>\n",
              "</div>"
            ],
            "text/plain": [
              "         valor\n",
              "data          \n",
              "2015  187487.6\n",
              "2016  181262.8\n",
              "2017  215097.5\n",
              "2018  236620.1\n",
              "2019  222102.4"
            ]
          },
          "metadata": {},
          "execution_count": 163
        }
      ]
    },
    {
      "cell_type": "code",
      "metadata": {
        "colab": {
          "base_uri": "https://localhost:8080/",
          "height": 238
        },
        "id": "6e2OPP7gpeo8",
        "outputId": "a7164e97-cf5f-45f7-bd23-ed85c4e55472"
      },
      "source": [
        "importacoes = importacoes.query(\"index < 2020\")\n",
        "importacoes.head()"
      ],
      "execution_count": 164,
      "outputs": [
        {
          "output_type": "execute_result",
          "data": {
            "text/html": [
              "<div>\n",
              "<style scoped>\n",
              "    .dataframe tbody tr th:only-of-type {\n",
              "        vertical-align: middle;\n",
              "    }\n",
              "\n",
              "    .dataframe tbody tr th {\n",
              "        vertical-align: top;\n",
              "    }\n",
              "\n",
              "    .dataframe thead th {\n",
              "        text-align: right;\n",
              "    }\n",
              "</style>\n",
              "<table border=\"1\" class=\"dataframe\">\n",
              "  <thead>\n",
              "    <tr style=\"text-align: right;\">\n",
              "      <th></th>\n",
              "      <th>valor</th>\n",
              "    </tr>\n",
              "    <tr>\n",
              "      <th>data</th>\n",
              "      <th></th>\n",
              "    </tr>\n",
              "  </thead>\n",
              "  <tbody>\n",
              "    <tr>\n",
              "      <th>1995</th>\n",
              "      <td>50987.1</td>\n",
              "    </tr>\n",
              "    <tr>\n",
              "      <th>1996</th>\n",
              "      <td>54347.4</td>\n",
              "    </tr>\n",
              "    <tr>\n",
              "      <th>1997</th>\n",
              "      <td>60537.8</td>\n",
              "    </tr>\n",
              "    <tr>\n",
              "      <th>1998</th>\n",
              "      <td>58672.9</td>\n",
              "    </tr>\n",
              "    <tr>\n",
              "      <th>1999</th>\n",
              "      <td>50259.5</td>\n",
              "    </tr>\n",
              "  </tbody>\n",
              "</table>\n",
              "</div>"
            ],
            "text/plain": [
              "        valor\n",
              "data         \n",
              "1995  50987.1\n",
              "1996  54347.4\n",
              "1997  60537.8\n",
              "1998  58672.9\n",
              "1999  50259.5"
            ]
          },
          "metadata": {},
          "execution_count": 164
        }
      ]
    },
    {
      "cell_type": "code",
      "metadata": {
        "id": "SVs0V9qKpgWS"
      },
      "source": [
        "cambio = cambio.query(\"index >=1995 & index < 2020\")"
      ],
      "execution_count": 165,
      "outputs": []
    },
    {
      "cell_type": "code",
      "metadata": {
        "id": "tCapJNQ0pthX"
      },
      "source": [
        "cambio = cambio.groupby(cambio.index.year).apply(lambda x: x.mean())"
      ],
      "execution_count": 166,
      "outputs": []
    },
    {
      "cell_type": "code",
      "metadata": {
        "colab": {
          "base_uri": "https://localhost:8080/"
        },
        "id": "L0AEHV4Ipt_K",
        "outputId": "cc289e14-5169-45de-e69c-cf15cc750feb"
      },
      "source": [
        "cambio.head"
      ],
      "execution_count": 167,
      "outputs": [
        {
          "output_type": "execute_result",
          "data": {
            "text/plain": [
              "<bound method NDFrame.head of          valor\n",
              "data          \n",
              "1995  0.917748\n",
              "1996  1.005229\n",
              "1997  1.078661\n",
              "1998  1.161066\n",
              "1999  1.815768\n",
              "2000  1.829499\n",
              "2001  2.352216\n",
              "2002  2.930936\n",
              "2003  3.071526\n",
              "2004  2.925727\n",
              "2005  2.434087\n",
              "2006  2.177107\n",
              "2007  1.948308\n",
              "2008  1.837467\n",
              "2009  1.993549\n",
              "2010  1.759307\n",
              "2011  1.674634\n",
              "2012  1.954992\n",
              "2013  2.160508\n",
              "2014  2.354716\n",
              "2015  3.338696\n",
              "2016  3.483327\n",
              "2017  3.192545\n",
              "2018  3.655784\n",
              "2019  3.946119>"
            ]
          },
          "metadata": {},
          "execution_count": 167
        }
      ]
    },
    {
      "cell_type": "code",
      "metadata": {
        "colab": {
          "base_uri": "https://localhost:8080/"
        },
        "id": "ctQzMmReqhpG",
        "outputId": "de327ff9-8c03-41f0-82a0-f4617175ada8"
      },
      "source": [
        "pib =  pib.query(\"index >=1995 & index < 2020\")\n",
        "pib.tail"
      ],
      "execution_count": 168,
      "outputs": [
        {
          "output_type": "execute_result",
          "data": {
            "text/plain": [
              "<bound method NDFrame.tail of                    valor\n",
              "data                    \n",
              "1995-01-01  7.059916e+11\n",
              "1996-01-01  8.547636e+11\n",
              "1997-01-01  9.520892e+11\n",
              "1998-01-01  1.002351e+12\n",
              "1999-01-01  1.087710e+12\n",
              "2000-01-01  1.199092e+12\n",
              "2001-01-01  1.315755e+12\n",
              "2002-01-01  1.488787e+12\n",
              "2003-01-01  1.717950e+12\n",
              "2004-01-01  1.957751e+12\n",
              "2005-01-01  2.170585e+12\n",
              "2006-01-01  2.409450e+12\n",
              "2007-01-01  2.720263e+12\n",
              "2008-01-01  3.109803e+12\n",
              "2009-01-01  3.333039e+12\n",
              "2010-01-01  3.885847e+12\n",
              "2011-01-01  4.376382e+12\n",
              "2012-01-01  4.814760e+12\n",
              "2013-01-01  5.331619e+12\n",
              "2014-01-01  5.778953e+12\n",
              "2015-01-01  5.995787e+12\n",
              "2016-01-01  6.269328e+12\n",
              "2017-01-01  6.585479e+12\n",
              "2018-01-01  7.004141e+12\n",
              "2019-01-01  7.407024e+12>"
            ]
          },
          "metadata": {},
          "execution_count": 168
        }
      ]
    },
    {
      "cell_type": "code",
      "metadata": {
        "id": "GzztPj0prEPG"
      },
      "source": [
        "exports =  exportacoes*cambio"
      ],
      "execution_count": 169,
      "outputs": []
    },
    {
      "cell_type": "code",
      "metadata": {
        "id": "AYo6D2vUrvxG"
      },
      "source": [
        "imports = importacoes*cambio"
      ],
      "execution_count": 170,
      "outputs": []
    },
    {
      "cell_type": "code",
      "metadata": {
        "id": "JJxmDDTur0ah"
      },
      "source": [
        "balance = exports - imports"
      ],
      "execution_count": 171,
      "outputs": []
    },
    {
      "cell_type": "code",
      "metadata": {
        "colab": {
          "base_uri": "https://localhost:8080/"
        },
        "id": "oYTakMMwr-PU",
        "outputId": "6fd98d86-adc2-4f07-dae6-fda1c0f890b3"
      },
      "source": [
        "balance.head"
      ],
      "execution_count": 172,
      "outputs": [
        {
          "output_type": "execute_result",
          "data": {
            "text/plain": [
              "<bound method NDFrame.head of               valor\n",
              "data               \n",
              "1995   -4112.336941\n",
              "1996   -6635.413277\n",
              "1997   -8187.253566\n",
              "1998   -8820.036832\n",
              "1999   -4832.304443\n",
              "2000   -3967.817865\n",
              "2001    2878.171987\n",
              "2002   34194.052957\n",
              "2003   71692.183243\n",
              "2004   93932.792667\n",
              "2005  105984.783674\n",
              "2006   96922.201303\n",
              "2007   73430.934121\n",
              "2008   40497.596049\n",
              "2009   45405.076579\n",
              "2010   28960.483139\n",
              "2011   42071.669125\n",
              "2012   27675.643560\n",
              "2013   -5163.396898\n",
              "2014  -21541.411176\n",
              "2015   50153.223573\n",
              "2016  144708.554033\n",
              "2017  173757.794189\n",
              "2018  147980.668835\n",
              "2019   90208.665284>"
            ]
          },
          "metadata": {},
          "execution_count": 172
        }
      ]
    },
    {
      "cell_type": "code",
      "metadata": {
        "colab": {
          "base_uri": "https://localhost:8080/"
        },
        "id": "8dQu5ZBAsdlJ",
        "outputId": "b386e3b9-ed2e-4ffa-af34-69f6f38ba1c0"
      },
      "source": [
        "balance.dtypes"
      ],
      "execution_count": 173,
      "outputs": [
        {
          "output_type": "execute_result",
          "data": {
            "text/plain": [
              "valor    float64\n",
              "dtype: object"
            ]
          },
          "metadata": {},
          "execution_count": 173
        }
      ]
    },
    {
      "cell_type": "code",
      "metadata": {
        "id": "ojcbovhRvdDE",
        "colab": {
          "base_uri": "https://localhost:8080/"
        },
        "outputId": "8adab2cc-dd99-4dd5-b6b7-3c80f66be498"
      },
      "source": [
        "pib.dtypes"
      ],
      "execution_count": 174,
      "outputs": [
        {
          "output_type": "execute_result",
          "data": {
            "text/plain": [
              "valor    float64\n",
              "dtype: object"
            ]
          },
          "metadata": {},
          "execution_count": 174
        }
      ]
    },
    {
      "cell_type": "code",
      "metadata": {
        "id": "45NWSNg1hquR",
        "colab": {
          "base_uri": "https://localhost:8080/",
          "height": 578
        },
        "outputId": "0ec3bf73-e44c-4260-9551-4e4c60b59981"
      },
      "source": [
        "plt.figure(figsize=(15,9))\n",
        "\n",
        "plt.plot(pib.index,pib.valor, label = 'PIB ', c=\"black\")\n",
        "plt.plot(pib.index,balance.valor, label = 'Exportações Líquidas', c=\"purple\")\n",
        "plt.legend()\n",
        "plt.ticklabel_format(style='plain', axis='y')\n",
        "plt.title('Exportações Líquidas x PIB',fontdict={'fontsize':20})\n",
        "plt.ylabel('Escala em milhão de R$',fontdict={'fontsize':12})\n",
        "plt.xticks(rotation=45);"
      ],
      "execution_count": 175,
      "outputs": [
        {
          "output_type": "display_data",
          "data": {
            "image/png": "[encoded data removed]",
            "text/plain": [
              "<Figure size 1080x648 with 1 Axes>"
            ]
          },
          "metadata": {
            "needs_background": "light"
          }
        }
      ]
    }
  ]
}